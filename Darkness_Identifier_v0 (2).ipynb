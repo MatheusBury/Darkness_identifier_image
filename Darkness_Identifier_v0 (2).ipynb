{
 "cells": [
  {
   "cell_type": "code",
   "execution_count": 28,
   "id": "f810b0e3",
   "metadata": {
    "scrolled": true
   },
   "outputs": [],
   "source": [
    "import cv2\n",
    "# import numpy as np\n",
    "import os\n",
    "import pandas as pd\n",
    "\n",
    "\"\"\"\n",
    "NAO FUNCIONA SE AS IMAGENS ESTIVER NO DRIVE, TEM QUE ESTAR NO LOCAL HOST\n",
    "\n",
    "\"\"\"\n",
    "\n",
    "def calculate_dark_percentage(thresholded_img):\n",
    "    if thresholded_img is None:\n",
    "        return 0  # ou outro valor padrão, dependendo do seu caso\n",
    "    total_pixels = thresholded_img.size\n",
    "    black_pixels = cv2.countNonZero(thresholded_img)\n",
    "    dark_percentage = (black_pixels / total_pixels) * 100\n",
    "    return dark_percentage\n",
    "\n",
    "def apply_threshold_to_images(input_folder, output_folder, output_file, threshold_value,cut_off_percentage):\n",
    "    global df_output,root\n",
    "    # Verifica se a pasta de saída para as imagens existe, senão a cria\n",
    "    if not os.path.exists(output_folder):\n",
    "        os.makedirs(output_folder)\n",
    "\n",
    "    # Abre o arquivo de saída para escrever as classificações\n",
    "    with open(output_file, 'w') as file:\n",
    "        # Percorre todas as imagens na pasta de entrada\n",
    "        for filename in os.listdir(input_folder):\n",
    "            # Verifica se o arquivo é uma imagem\n",
    "            if filename.endswith(('.jpg', '.jpeg', '.png', '.bmp', '.gif')):\n",
    "                # Lê a imagem\n",
    "                img_path = os.path.join(input_folder, filename)\n",
    "                img = cv2.imread(img_path, cv2.IMREAD_GRAYSCALE)\n",
    "                \n",
    "#                 # Identifica imagens com brilho \"estourado\"\n",
    "#                 mean = np.mean(img)\n",
    "#                 std_deviation = np.std(img)\n",
    "#                 threshold_std = mean * threshold_std_mean\n",
    "#                 print_std = std_deviation/mean\n",
    "                \n",
    "                # Aplica o threshold\n",
    "                _, thresholded_img = cv2.threshold(img, threshold_value, 255, cv2.THRESH_BINARY)\n",
    "\n",
    "                # Calcula a porcentagem de pixels pretos na imagem thresholded\n",
    "                print(img)\n",
    "                dark_percentage = calculate_dark_percentage(thresholded_img)\n",
    "\n",
    "                # Verifica se a porcentagem de pixels pretos é maior ou igual ao corte definido\n",
    "                if dark_percentage <= cut_off_percentage:\n",
    "                    classification = 'Darkness'\n",
    "                else:\n",
    "#                     if std_deviation <= threshold_std:\n",
    "#                         classification = 'Bad Lighting'\n",
    "#                     else:\n",
    "                    classification = 'Good Lighting'\n",
    "\n",
    "                # Salva a imagem thresholded na pasta de saída para imagens\n",
    "                output_img_path = os.path.join(output_folder, filename)\n",
    "                cv2.imwrite(output_img_path, thresholded_img)\n",
    "\n",
    "                # Escreve a classificação no arquivo de saída para texto\n",
    "#                 file.write(f\"{filename}: {dark_percentage:.2f}% {print_std:.2f} {classification}\\n\")\n",
    "                file.write(f\"{filename}: {dark_percentage:.2f}% {classification}\\n\")\n",
    "\n",
    "#                 print(f\"{filename}: {dark_percentage:.2f}% {print_std:.2f} {classification}\")\n",
    "                print(f\"{filename}: {dark_percentage:.2f}% {classification}\")\n",
    "\n",
    "                new_row = {'root': root, 'filename': filename,'lighting':dark_percentage, 'classification': classification}\n",
    "\n",
    "                # Convert dictionary to DataFrame with specified index\n",
    "                new_row_df = pd.DataFrame([new_row], index=[0])\n",
    "\n",
    "                # Concatenate DataFrame with df_output\n",
    "                df_output = pd.concat([df_output, new_row_df], ignore_index=True)\n",
    "                                \n",
    "                "
   ]
  },
  {
   "cell_type": "code",
   "execution_count": 29,
   "id": "6a6fb9d2",
   "metadata": {},
   "outputs": [],
   "source": [
    "# # Pasta de entrada, pasta de saída para imagens e arquivo de saída para texto\n",
    "# input_folder = \"M70\"\n",
    "# output_image_folder = \"threshold\"\n",
    "# output_text_file = \"classificacoes.txt\"\n",
    "# threshold_value = 15\n",
    "# cut_off_percentage = 85\n",
    "# # threshold_std_mean = 0.7\n",
    "\n",
    "# Aplica o threshold em todas as imagens na pasta de entrada e salva as imagens e as classificações em pastas/arquivos separados\n",
    "# apply_threshold_to_images(input_folder, output_image_folder, output_text_file, threshold_value, threshold_std_mean, cut_off_percentage)\n",
    "# apply_threshold_to_images(input_folder, output_image_folder, output_text_file, threshold_value, cut_off_percentage)"
   ]
  },
  {
   "cell_type": "code",
   "execution_count": 30,
   "id": "943f9b8f",
   "metadata": {},
   "outputs": [
    {
     "name": "stdout",
     "output_type": "stream",
     "text": [
      "None\n"
     ]
    },
    {
     "ename": "error",
     "evalue": "OpenCV(4.9.0) D:\\a\\opencv-python\\opencv-python\\opencv\\modules\\imgcodecs\\src\\loadsave.cpp:786: error: (-215:Assertion failed) !_img.empty() in function 'cv::imwrite'\n",
     "output_type": "error",
     "traceback": [
      "\u001b[1;31m---------------------------------------------------------------------------\u001b[0m",
      "\u001b[1;31merror\u001b[0m                                     Traceback (most recent call last)",
      "Cell \u001b[1;32mIn[30], line 11\u001b[0m\n\u001b[0;32m      8\u001b[0m df_output \u001b[38;5;241m=\u001b[39m pd\u001b[38;5;241m.\u001b[39mDataFrame({\u001b[38;5;124m'\u001b[39m\u001b[38;5;124mroot\u001b[39m\u001b[38;5;124m'\u001b[39m:[],\u001b[38;5;124m'\u001b[39m\u001b[38;5;124mfilename\u001b[39m\u001b[38;5;124m'\u001b[39m:[],\u001b[38;5;124m'\u001b[39m\u001b[38;5;124mlighting\u001b[39m\u001b[38;5;124m'\u001b[39m:[],\u001b[38;5;124m'\u001b[39m\u001b[38;5;124mclassification\u001b[39m\u001b[38;5;124m'\u001b[39m:[]})\n\u001b[0;32m     10\u001b[0m \u001b[38;5;28;01mfor\u001b[39;00m root, dirs, files \u001b[38;5;129;01min\u001b[39;00m os\u001b[38;5;241m.\u001b[39mwalk(input_folder):\n\u001b[1;32m---> 11\u001b[0m     apply_threshold_to_images(root, output_image_folder, output_text_file, threshold_value, cut_off_percentage)\n\u001b[0;32m     14\u001b[0m df_output\u001b[38;5;241m.\u001b[39mto_excel(\u001b[38;5;124m'\u001b[39m\u001b[38;5;124moutput.xlsx\u001b[39m\u001b[38;5;124m'\u001b[39m,index\u001b[38;5;241m=\u001b[39m\u001b[38;5;28;01mFalse\u001b[39;00m)\n",
      "Cell \u001b[1;32mIn[28], line 54\u001b[0m, in \u001b[0;36mapply_threshold_to_images\u001b[1;34m(input_folder, output_folder, output_file, threshold_value, cut_off_percentage)\u001b[0m\n\u001b[0;32m     52\u001b[0m                 \u001b[38;5;66;03m# Salva a imagem thresholded na pasta de saída para imagens\u001b[39;00m\n\u001b[0;32m     53\u001b[0m                 output_img_path \u001b[38;5;241m=\u001b[39m os\u001b[38;5;241m.\u001b[39mpath\u001b[38;5;241m.\u001b[39mjoin(output_folder, filename)\n\u001b[1;32m---> 54\u001b[0m                 cv2\u001b[38;5;241m.\u001b[39mimwrite(output_img_path, thresholded_img)\n\u001b[0;32m     56\u001b[0m                 \u001b[38;5;66;03m# Escreve a classificação no arquivo de saída para texto\u001b[39;00m\n\u001b[0;32m     57\u001b[0m \u001b[38;5;66;03m#                 file.write(f\"{filename}: {dark_percentage:.2f}% {print_std:.2f} {classification}\\n\")\u001b[39;00m\n\u001b[0;32m     58\u001b[0m                 file\u001b[38;5;241m.\u001b[39mwrite(\u001b[38;5;124mf\u001b[39m\u001b[38;5;124m\"\u001b[39m\u001b[38;5;132;01m{\u001b[39;00mfilename\u001b[38;5;132;01m}\u001b[39;00m\u001b[38;5;124m: \u001b[39m\u001b[38;5;132;01m{\u001b[39;00mdark_percentage\u001b[38;5;132;01m:\u001b[39;00m\u001b[38;5;124m.2f\u001b[39m\u001b[38;5;132;01m}\u001b[39;00m\u001b[38;5;124m% \u001b[39m\u001b[38;5;132;01m{\u001b[39;00mclassification\u001b[38;5;132;01m}\u001b[39;00m\u001b[38;5;130;01m\\n\u001b[39;00m\u001b[38;5;124m\"\u001b[39m)\n",
      "\u001b[1;31merror\u001b[0m: OpenCV(4.9.0) D:\\a\\opencv-python\\opencv-python\\opencv\\modules\\imgcodecs\\src\\loadsave.cpp:786: error: (-215:Assertion failed) !_img.empty() in function 'cv::imwrite'\n"
     ]
    }
   ],
   "source": [
    "# Pasta de entrada, pasta de saída para imagens e arquivo de saída para texto\n",
    "input_folder = r\"G:\\Drives compartilhados\\Modec\\MV30\\fotos_embarque_2024\\imagens_360_convertidas_resolução original\\topside\\1P\"\n",
    "output_image_folder = r\"G:\\Drives compartilhados\\Modec\\MV30\\fotos_embarque_2024\\Projeto C\"\n",
    "output_text_file = \"classificacoes.txt\"\n",
    "threshold_value = 15\n",
    "cut_off_percentage = 85\n",
    "\n",
    "df_output = pd.DataFrame({'root':[],'filename':[],'lighting':[],'classification':[]})\n",
    "\n",
    "for root, dirs, files in os.walk(input_folder):\n",
    "    apply_threshold_to_images(root, output_image_folder, output_text_file, threshold_value, cut_off_percentage)\n",
    "\n",
    "\n",
    "df_output.to_excel('output.xlsx',index=False)"
   ]
  }
 ],
 "metadata": {
  "kernelspec": {
   "display_name": "Python 3 (ipykernel)",
   "language": "python",
   "name": "python3"
  },
  "language_info": {
   "codemirror_mode": {
    "name": "ipython",
    "version": 3
   },
   "file_extension": ".py",
   "mimetype": "text/x-python",
   "name": "python",
   "nbconvert_exporter": "python",
   "pygments_lexer": "ipython3",
   "version": "3.11.5"
  }
 },
 "nbformat": 4,
 "nbformat_minor": 5
}
